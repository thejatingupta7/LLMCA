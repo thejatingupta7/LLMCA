{
 "cells": [
  {
   "cell_type": "markdown",
   "id": "4cc4356d",
   "metadata": {},
   "source": [
    "# Benchmark Data Loader\n",
    "\n",
    "This notebook provides functionality to access benchmark text files from subdirectories and convert them into a pandas DataFrame for analysis."
   ]
  },
  {
   "cell_type": "markdown",
   "id": "faba27ac",
   "metadata": {},
   "source": [
    "## Import Required Libraries\n",
    "\n",
    "Import pandas, os, and other necessary libraries for data handling and file operations."
   ]
  },
  {
   "cell_type": "code",
   "execution_count": 1,
   "id": "49c8bc5a",
   "metadata": {},
   "outputs": [
    {
     "name": "stdout",
     "output_type": "stream",
     "text": [
      "Libraries imported successfully!\n"
     ]
    }
   ],
   "source": [
    "import pandas as pd\n",
    "import os\n",
    "import numpy as np\n",
    "from pathlib import Path\n",
    "import glob\n",
    "\n",
    "print(\"Libraries imported successfully!\")"
   ]
  },
  {
   "cell_type": "markdown",
   "id": "ebf1d2f6",
   "metadata": {},
   "source": [
    "## Define Benchmark Data Structure\n",
    "\n",
    "Define the structure and format of benchmark data, including data types and expected fields."
   ]
  },
  {
   "cell_type": "code",
   "execution_count": 2,
   "id": "c825898b",
   "metadata": {},
   "outputs": [
    {
     "name": "stdout",
     "output_type": "stream",
     "text": [
      "Benchmark structure defined with columns: ['subdirectory', 'file_number', 'filename', 'file_path', 'question_content', 'file_size', 'question_length']\n",
      "Base folder: Benchmark\n"
     ]
    }
   ],
   "source": [
    "# Define the benchmark data structure\n",
    "BENCHMARK_COLUMNS = [\n",
    "    'subdirectory',\n",
    "    'file_number', \n",
    "    'filename',\n",
    "    'file_path',\n",
    "    'question_content',\n",
    "    'file_size',\n",
    "    'question_length'\n",
    "]\n",
    "\n",
    "# Base folder containing benchmark data\n",
    "BASE_FOLDER = \"Benchmark\"\n",
    "\n",
    "print(f\"Benchmark structure defined with columns: {BENCHMARK_COLUMNS}\")\n",
    "print(f\"Base folder: {BASE_FOLDER}\")"
   ]
  },
  {
   "cell_type": "markdown",
   "id": "add1a550",
   "metadata": {},
   "source": [
    "## Create Benchmark Access Functions\n",
    "\n",
    "Create functions to read and parse benchmark data from files, handling different file formats and data sources."
   ]
  },
  {
   "cell_type": "code",
   "execution_count": 3,
   "id": "192235c7",
   "metadata": {},
   "outputs": [
    {
     "name": "stdout",
     "output_type": "stream",
     "text": [
      "Benchmark access functions defined successfully!\n"
     ]
    }
   ],
   "source": [
    "def get_benchmark_subdirectories(base_folder):\n",
    "    \"\"\"\n",
    "    Get all subdirectories in the benchmark folder.\n",
    "    \n",
    "    Args:\n",
    "        base_folder (str): Path to the base benchmark folder\n",
    "        \n",
    "    Returns:\n",
    "        list: List of subdirectory names\n",
    "    \"\"\"\n",
    "    if not os.path.exists(base_folder):\n",
    "        print(f\"Warning: Base folder '{base_folder}' does not exist!\")\n",
    "        return []\n",
    "    \n",
    "    subdirs = [subdir for subdir in os.listdir(base_folder) \n",
    "               if os.path.isdir(os.path.join(base_folder, subdir))]\n",
    "    \n",
    "    print(f\"Found {len(subdirs)} subdirectories: {subdirs}\")\n",
    "    return subdirs\n",
    "\n",
    "\n",
    "def get_text_files_in_directory(directory_path):\n",
    "    \"\"\"\n",
    "    Get all .txt files in a directory, sorted by file number.\n",
    "    \n",
    "    Args:\n",
    "        directory_path (str): Path to the directory\n",
    "        \n",
    "    Returns:\n",
    "        list: Sorted list of .txt filenames\n",
    "    \"\"\"\n",
    "    if not os.path.exists(directory_path):\n",
    "        return []\n",
    "    \n",
    "    files = [f for f in os.listdir(directory_path) if f.endswith('.txt')]\n",
    "    # Sort by file number (assuming format like \"1.txt\", \"2.txt\", etc.)\n",
    "    try:\n",
    "        files = sorted(files, key=lambda x: int(x.split('.')[0]))\n",
    "    except ValueError:\n",
    "        # If sorting by number fails, sort alphabetically\n",
    "        files = sorted(files)\n",
    "    \n",
    "    return files\n",
    "\n",
    "\n",
    "def read_text_file_content(file_path):\n",
    "    \"\"\"\n",
    "    Read content from a text file safely.\n",
    "    \n",
    "    Args:\n",
    "        file_path (str): Path to the text file\n",
    "        \n",
    "    Returns:\n",
    "        str: File content or empty string if error\n",
    "    \"\"\"\n",
    "    try:\n",
    "        with open(file_path, 'r', encoding='utf-8') as file:\n",
    "            content = file.read().strip()\n",
    "        return content\n",
    "    except Exception as e:\n",
    "        print(f\"Error reading file {file_path}: {e}\")\n",
    "        return \"\"\n",
    "\n",
    "\n",
    "print(\"Benchmark access functions defined successfully!\")"
   ]
  },
  {
   "cell_type": "markdown",
   "id": "c2cb308c",
   "metadata": {},
   "source": [
    "## Load Benchmark Data\n",
    "\n",
    "Load all benchmark data from subdirectories and prepare it for DataFrame conversion."
   ]
  },
  {
   "cell_type": "code",
   "execution_count": 4,
   "id": "ab393e4c",
   "metadata": {},
   "outputs": [
    {
     "name": "stdout",
     "output_type": "stream",
     "text": [
      "Loading benchmark data...\n",
      "Found 2 subdirectories: ['foundation_P3', 'foundation_P4']\n",
      "\n",
      "Processing subdirectory: foundation_P3\n",
      "Found 100 text files in foundation_P3\n",
      "\n",
      "Processing subdirectory: foundation_P4\n",
      "Found 100 text files in foundation_P4\n",
      "\n",
      "Total records loaded: 200\n"
     ]
    }
   ],
   "source": [
    "def load_all_benchmark_data(base_folder):\n",
    "    \"\"\"\n",
    "    Load all benchmark data from subdirectories.\n",
    "    \n",
    "    Args:\n",
    "        base_folder (str): Path to the base benchmark folder\n",
    "        \n",
    "    Returns:\n",
    "        list: List of dictionaries containing benchmark data\n",
    "    \"\"\"\n",
    "    benchmark_data = []\n",
    "    \n",
    "    # Get all subdirectories\n",
    "    subdirectories = get_benchmark_subdirectories(base_folder)\n",
    "    \n",
    "    for subdir in subdirectories:\n",
    "        subdir_path = os.path.join(base_folder, subdir)\n",
    "        print(f\"\\nProcessing subdirectory: {subdir}\")\n",
    "        \n",
    "        # Get all text files in this subdirectory\n",
    "        text_files = get_text_files_in_directory(subdir_path)\n",
    "        print(f\"Found {len(text_files)} text files in {subdir}\")\n",
    "        \n",
    "        for filename in text_files:\n",
    "            file_path = os.path.join(subdir_path, filename)\n",
    "            \n",
    "            # Extract file number from filename\n",
    "            try:\n",
    "                file_number = int(filename.split('.')[0])\n",
    "            except ValueError:\n",
    "                file_number = None\n",
    "            \n",
    "            # Read file content\n",
    "            content = read_text_file_content(file_path)\n",
    "            \n",
    "            # Get file size\n",
    "            file_size = os.path.getsize(file_path) if os.path.exists(file_path) else 0\n",
    "            \n",
    "            # Create data record\n",
    "            record = {\n",
    "                'subdirectory': subdir,\n",
    "                'file_number': file_number,\n",
    "                'filename': filename,\n",
    "                'file_path': file_path,\n",
    "                'question_content': content,\n",
    "                'file_size': file_size,\n",
    "                'question_length': len(content)\n",
    "            }\n",
    "            \n",
    "            benchmark_data.append(record)\n",
    "    \n",
    "    print(f\"\\nTotal records loaded: {len(benchmark_data)}\")\n",
    "    return benchmark_data\n",
    "\n",
    "\n",
    "# Load the benchmark data\n",
    "print(\"Loading benchmark data...\")\n",
    "benchmark_records = load_all_benchmark_data(BASE_FOLDER)"
   ]
  },
  {
   "cell_type": "markdown",
   "id": "249fb8b4",
   "metadata": {},
   "source": [
    "## Convert to Pandas DataFrame\n",
    "\n",
    "Convert the accessed benchmark data into a pandas DataFrame with proper column names and data types."
   ]
  },
  {
   "cell_type": "code",
   "execution_count": 5,
   "id": "1e9028f6",
   "metadata": {},
   "outputs": [
    {
     "name": "stdout",
     "output_type": "stream",
     "text": [
      "DataFrame created successfully!\n",
      "Shape: (200, 7)\n",
      "\n",
      "DataFrame columns: ['subdirectory', 'file_number', 'filename', 'file_path', 'question_content', 'file_size', 'question_length']\n"
     ]
    }
   ],
   "source": [
    "# Convert to DataFrame\n",
    "if benchmark_records:\n",
    "    df = pd.DataFrame(benchmark_records)\n",
    "    \n",
    "    # Ensure proper data types\n",
    "    df['file_number'] = pd.to_numeric(df['file_number'], errors='coerce')\n",
    "    df['file_size'] = pd.to_numeric(df['file_size'], errors='coerce')\n",
    "    df['question_length'] = pd.to_numeric(df['question_length'], errors='coerce')\n",
    "    \n",
    "    # Sort by subdirectory and file number\n",
    "    df = df.sort_values(['subdirectory', 'file_number']).reset_index(drop=True)\n",
    "    \n",
    "    print(\"DataFrame created successfully!\")\n",
    "    print(f\"Shape: {df.shape}\")\n",
    "    \n",
    "else:\n",
    "    # Create empty DataFrame with proper structure if no data found\n",
    "    df = pd.DataFrame(columns=BENCHMARK_COLUMNS)\n",
    "    print(\"No benchmark data found. Created empty DataFrame.\")\n",
    "\n",
    "print(f\"\\nDataFrame columns: {list(df.columns)}\")"
   ]
  },
  {
   "cell_type": "markdown",
   "id": "11ae0dee",
   "metadata": {},
   "source": [
    "## Validate DataFrame Structure\n",
    "\n",
    "Verify the DataFrame structure, display basic information, and store the final result in variable 'df'."
   ]
  },
  {
   "cell_type": "code",
   "execution_count": 6,
   "id": "1b12761a",
   "metadata": {},
   "outputs": [
    {
     "name": "stdout",
     "output_type": "stream",
     "text": [
      "=== BENCHMARK DATAFRAME SUMMARY ===\n",
      "Total rows: 200\n",
      "Total columns: 7\n",
      "Memory usage: 134.82 KB\n",
      "\n",
      "=== COLUMN DATA TYPES ===\n",
      "subdirectory        object\n",
      "file_number          int64\n",
      "filename            object\n",
      "file_path           object\n",
      "question_content    object\n",
      "file_size            int64\n",
      "question_length      int64\n",
      "dtype: object\n",
      "\n",
      "=== BASIC STATISTICS ===\n",
      "Unique subdirectories: 2\n",
      "Subdirectories: ['foundation_P3', 'foundation_P4']\n",
      "File number range: 1 - 100\n",
      "Average question length: 246.22 characters\n",
      "Average file size: 250.30 bytes\n",
      "\n",
      "=== FIRST FEW ROWS ===\n"
     ]
    },
    {
     "data": {
      "text/html": [
       "<div>\n",
       "<style scoped>\n",
       "    .dataframe tbody tr th:only-of-type {\n",
       "        vertical-align: middle;\n",
       "    }\n",
       "\n",
       "    .dataframe tbody tr th {\n",
       "        vertical-align: top;\n",
       "    }\n",
       "\n",
       "    .dataframe thead th {\n",
       "        text-align: right;\n",
       "    }\n",
       "</style>\n",
       "<table border=\"1\" class=\"dataframe\">\n",
       "  <thead>\n",
       "    <tr style=\"text-align: right;\">\n",
       "      <th></th>\n",
       "      <th>subdirectory</th>\n",
       "      <th>file_number</th>\n",
       "      <th>filename</th>\n",
       "      <th>file_path</th>\n",
       "      <th>question_content</th>\n",
       "      <th>file_size</th>\n",
       "      <th>question_length</th>\n",
       "    </tr>\n",
       "  </thead>\n",
       "  <tbody>\n",
       "    <tr>\n",
       "      <th>0</th>\n",
       "      <td>foundation_P3</td>\n",
       "      <td>1</td>\n",
       "      <td>1.txt</td>\n",
       "      <td>Benchmark\\foundation_P3\\1.txt</td>\n",
       "      <td>The ratio of income of A and B is 5 : 4 and th...</td>\n",
       "      <td>206</td>\n",
       "      <td>191</td>\n",
       "    </tr>\n",
       "    <tr>\n",
       "      <th>1</th>\n",
       "      <td>foundation_P3</td>\n",
       "      <td>2</td>\n",
       "      <td>2.txt</td>\n",
       "      <td>Benchmark\\foundation_P3\\2.txt</td>\n",
       "      <td>2. The mean proportional between \\(12x^2\\) and...</td>\n",
       "      <td>125</td>\n",
       "      <td>117</td>\n",
       "    </tr>\n",
       "    <tr>\n",
       "      <th>2</th>\n",
       "      <td>foundation_P3</td>\n",
       "      <td>3</td>\n",
       "      <td>3.txt</td>\n",
       "      <td>Benchmark\\foundation_P3\\3.txt</td>\n",
       "      <td>3. \\(\\log_2 \\log_2 256 + 2 \\log_2 \\sqrt{2}\\) i...</td>\n",
       "      <td>105</td>\n",
       "      <td>101</td>\n",
       "    </tr>\n",
       "    <tr>\n",
       "      <th>3</th>\n",
       "      <td>foundation_P3</td>\n",
       "      <td>4</td>\n",
       "      <td>4.txt</td>\n",
       "      <td>Benchmark\\foundation_P3\\4.txt</td>\n",
       "      <td>4. What is the value of \\(\\left(\\frac{x^b}{x^c...</td>\n",
       "      <td>216</td>\n",
       "      <td>210</td>\n",
       "    </tr>\n",
       "    <tr>\n",
       "      <th>4</th>\n",
       "      <td>foundation_P3</td>\n",
       "      <td>5</td>\n",
       "      <td>5.txt</td>\n",
       "      <td>Benchmark\\foundation_P3\\5.txt</td>\n",
       "      <td>5. A number consists of two digits. The digits...</td>\n",
       "      <td>245</td>\n",
       "      <td>237</td>\n",
       "    </tr>\n",
       "  </tbody>\n",
       "</table>\n",
       "</div>"
      ],
      "text/plain": [
       "    subdirectory  file_number filename                      file_path  \\\n",
       "0  foundation_P3            1    1.txt  Benchmark\\foundation_P3\\1.txt   \n",
       "1  foundation_P3            2    2.txt  Benchmark\\foundation_P3\\2.txt   \n",
       "2  foundation_P3            3    3.txt  Benchmark\\foundation_P3\\3.txt   \n",
       "3  foundation_P3            4    4.txt  Benchmark\\foundation_P3\\4.txt   \n",
       "4  foundation_P3            5    5.txt  Benchmark\\foundation_P3\\5.txt   \n",
       "\n",
       "                                    question_content  file_size  \\\n",
       "0  The ratio of income of A and B is 5 : 4 and th...        206   \n",
       "1  2. The mean proportional between \\(12x^2\\) and...        125   \n",
       "2  3. \\(\\log_2 \\log_2 256 + 2 \\log_2 \\sqrt{2}\\) i...        105   \n",
       "3  4. What is the value of \\(\\left(\\frac{x^b}{x^c...        216   \n",
       "4  5. A number consists of two digits. The digits...        245   \n",
       "\n",
       "   question_length  \n",
       "0              191  \n",
       "1              117  \n",
       "2              101  \n",
       "3              210  \n",
       "4              237  "
      ]
     },
     "metadata": {},
     "output_type": "display_data"
    },
    {
     "name": "stdout",
     "output_type": "stream",
     "text": [
      "\n",
      "=== SAMPLE QUESTION CONTENT ===\n",
      "First question preview (first 200 chars):\n",
      "'The ratio of income of A and B is 5 : 4 and their expenditure is 3 : 2. If at the end of the year each saves ₹ 1,600, then the income of A is:\n",
      "\n",
      "(A) ₹ 3,400\n",
      "(B) ₹ 3,600\n",
      "(C) ₹ 4,000\n",
      "(D) ₹ 4,400'\n",
      "\n",
      "=== FINAL RESULT ===\n",
      "✅ Benchmark data successfully loaded into variable 'df'\n",
      "✅ DataFrame shape: (200, 7)\n",
      "✅ Ready for analysis!\n"
     ]
    }
   ],
   "source": [
    "# Display DataFrame information\n",
    "print(\"=== BENCHMARK DATAFRAME SUMMARY ===\")\n",
    "print(f\"Total rows: {len(df)}\")\n",
    "print(f\"Total columns: {len(df.columns)}\")\n",
    "print(f\"Memory usage: {df.memory_usage(deep=True).sum() / 1024:.2f} KB\")\n",
    "\n",
    "print(\"\\n=== COLUMN DATA TYPES ===\")\n",
    "print(df.dtypes)\n",
    "\n",
    "if not df.empty:\n",
    "    print(\"\\n=== BASIC STATISTICS ===\")\n",
    "    print(f\"Unique subdirectories: {df['subdirectory'].nunique()}\")\n",
    "    print(f\"Subdirectories: {df['subdirectory'].unique().tolist()}\")\n",
    "    print(f\"File number range: {df['file_number'].min()} - {df['file_number'].max()}\")\n",
    "    print(f\"Average question length: {df['question_length'].mean():.2f} characters\")\n",
    "    print(f\"Average file size: {df['file_size'].mean():.2f} bytes\")\n",
    "    \n",
    "    print(\"\\n=== FIRST FEW ROWS ===\")\n",
    "    display(df.head())\n",
    "    \n",
    "    print(\"\\n=== SAMPLE QUESTION CONTENT ===\")\n",
    "    if len(df) > 0 and df['question_content'].iloc[0]:\n",
    "        sample_content = df['question_content'].iloc[0]\n",
    "        print(f\"First question preview (first 200 chars):\")\n",
    "        print(f\"'{sample_content[:200]}...'\") if len(sample_content) > 200 else print(f\"'{sample_content}'\")\n",
    "\n",
    "else:\n",
    "    print(\"\\nDataFrame is empty - no benchmark data was found.\")\n",
    "\n",
    "print(\"\\n=== FINAL RESULT ===\")\n",
    "print(f\"✅ Benchmark data successfully loaded into variable 'df'\")\n",
    "print(f\"✅ DataFrame shape: {df.shape}\")\n",
    "print(f\"✅ Ready for analysis!\")"
   ]
  },
  {
   "cell_type": "code",
   "execution_count": null,
   "id": "f820028a",
   "metadata": {},
   "outputs": [],
   "source": []
  }
 ],
 "metadata": {
  "kernelspec": {
   "display_name": "Python 3",
   "language": "python",
   "name": "python3"
  },
  "language_info": {
   "codemirror_mode": {
    "name": "ipython",
    "version": 3
   },
   "file_extension": ".py",
   "mimetype": "text/x-python",
   "name": "python",
   "nbconvert_exporter": "python",
   "pygments_lexer": "ipython3",
   "version": "3.11.2"
  }
 },
 "nbformat": 4,
 "nbformat_minor": 5
}
